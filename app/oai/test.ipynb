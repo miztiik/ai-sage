{
 "cells": [
  {
   "cell_type": "code",
   "execution_count": 8,
   "metadata": {},
   "outputs": [],
   "source": [
    "import os\n",
    "from openai import AzureOpenAI\n",
    "\n",
    "# dotenv.load_dotenv()"
   ]
  },
  {
   "cell_type": "code",
   "execution_count": null,
   "metadata": {},
   "outputs": [],
   "source": [
    "!pip install promptflow-tracing"
   ]
  },
  {
   "cell_type": "code",
   "execution_count": 17,
   "metadata": {},
   "outputs": [],
   "source": [
    "from promptflow.tracing import start_trace"
   ]
  },
  {
   "cell_type": "code",
   "execution_count": 18,
   "metadata": {},
   "outputs": [],
   "source": [
    "endpoint = os.getenv(\"AZURE_OPENAI_ENDPOINT\")\n",
    "api_key = os.getenv(\"AZURE_OPENAI_API_KEY\")\n",
    "\n",
    "AZURE_OPENAI_ENDPOINT = \"https://sage-us-ai-svc-004.openai.azure.com/\"\n",
    "AZURE_OPENAI_ENDPOINT = \"https://sage-us-ai-svc-004.cognitiveservices.azure.com/\"\n",
    "AZURE_OPENAI_API_KEY = \"e483c2d6f82a4bb8b04c4ee6a85998e1\"\n",
    "\n",
    "# set the deployment name for the model we want to use\n",
    "deployment_name = \"gpt-4o\"\n",
    "\n",
    "# instrument OpenAI\n",
    "start_trace()\n",
    "\n",
    "client = AzureOpenAI(\n",
    "    api_key=AZURE_OPENAI_API_KEY,\n",
    "    api_version=\"2024-02-01\",\n",
    "    azure_endpoint=AZURE_OPENAI_ENDPOINT,\n",
    ")"
   ]
  },
  {
   "cell_type": "code",
   "execution_count": 20,
   "metadata": {},
   "outputs": [
    {
     "name": "stdout",
     "output_type": "stream",
     "text": [
      "ChatCompletionMessage(content=\"Absolutely! To effectively compare 'AutoGen' and 'CrewAI' bullets, we must focus on a few themes such as the underlying technology, performance, flexibility, use cases, and user experience. \\n\\n1. **Underlying Technology:**\\n   - **AutoGen:** Utilizes advanced machine learning models and automation algorithms to automatically generate content, scripts, and workflows. Leverages NLP (Natural Language Processing) to create human-like text.\\n   - **CrewAI:** Employs a combination of AI-driven decision-making engines and collaborative frameworks. Integrates various AI models to assist teams in making data-driven decisions and optimizing project workflows.\\n\\n2. **Performance:**\\n   - **AutoGen:** Typically achieves high efficiency in producing large volumes of content with reasonable accuracy and coherence. Fast generation times, suitable for real-time applications.\\n   - **CrewAI:** Excels in decision-support and project management, potentially slower due to the collaborative and integrative nature but offers high accuracy in recommendations and strategic planning.\\n\\n3. **Flexibility:**\\n   - **AutoGen:** Highly flexible regarding the types of content it can generate, ranging from simple articles to complex scripts. Adaptable to various industry needs but may require fine-tuning for niche-specific jargon.\\n   - **CrewAI:** Offers flexibility in managing diverse projects across different industries by tailoring collaborative strategies and decision-support tools but might need customization to align precisely with unique team structures.\\n\\n4. **Use Cases:**\\n   - **AutoGen:** Ideal for content creation for marketing, journalism, customer support scripts, report generation, and automated messaging. Useful for any domain needing large-scale textual output.\\n   - **CrewAI:** Best suited for team-oriented applications, such as project management, strategic planning, operations optimization, and collaborative platforms. Helpful in environments where decision-making and coordination are critical.\\n\\n5. **User Experience:**\\n   - **AutoGen:** Focuses on ease of use with intuitive interfaces for setting up content parameters and minimal manual input once the model is trained. Users may need to review and tweak generated content for precision.\\n   - **CrewAI:** More interaction-driven with features supporting collaboration, feedback loops, and user inputs. Encourages active participation from team members, which could enhance engagement but may also increase the learning curve.\\n\\nUltimately, while both 'AutoGen' and 'CrewAI' leverage AI for enhancing productivity, 'AutoGen' focuses on automated content creation, making it an excellent choice for producing large-scale textual materials. On the other hand, 'CrewAI' enhances team collaboration and decision-making, best suited for projects requiring integrated efforts and precise planning.\", role='assistant', function_call=None, tool_calls=None)\n"
     ]
    }
   ],
   "source": [
    "completion = client.chat.completions.create(\n",
    "    model=deployment_name,\n",
    "    messages=[\n",
    "        {\n",
    "            \"role\": \"system\",\n",
    "            \"content\": \"You are an expert AI assistant, skilled in explaining complex concepts.\",\n",
    "        },\n",
    "        {\n",
    "            \"role\": \"user\",\n",
    "            \"content\": \"Compare 'AutoGen' and 'CrewAI' bullets for each theme\",\n",
    "        },\n",
    "    ],\n",
    ")\n",
    "\n",
    "print(completion.choices[0].message)"
   ]
  },
  {
   "cell_type": "markdown",
   "metadata": {},
   "source": [
    "1. **Underlying Technology:**\n",
    "   - **AutoGen:** Utilizes advanced machine learning models and automation algorithms to automatically generate content, scripts, and workflows. Leverages NLP (Natural Language Processing) to create human-like text.\n",
    "   - **CrewAI:** Employs a combination of AI-driven decision-making engines and collaborative frameworks. Integrates various AI models to assist teams in making data-driven decisions and optimizing project workflows.\n",
    "\n",
    "2. **Performance:**\n",
    "   - **AutoGen:** Typically achieves high efficiency in producing large volumes of content with reasonable accuracy and coherence. Fast generation times, suitable for real-time applications.\n",
    "   - **CrewAI:** Excels in decision-support and project management, potentially slower due to the collaborative and integrative nature but offers high accuracy in recommendations and strategic planning.\n",
    "\n",
    "3. **Flexibility:**\n",
    "   - **AutoGen:** Highly flexible regarding the types of content it can generate, ranging from simple articles to complex scripts. Adaptable to various industry needs but may require fine-tuning for niche-specific jargon.\n",
    "   - **CrewAI:** Offers flexibility in managing diverse projects across different industries by tailoring collaborative strategies and decision-support tools but might need customization to align precisely with unique team structures.\n",
    "\n",
    "4. **Use Cases:**\n",
    "   - **AutoGen:** Ideal for content creation for marketing, journalism, customer support scripts, report generation, and automated messaging. Useful for any domain needing large-scale textual output.\n",
    "   - **CrewAI:** Best suited for team-oriented applications, such as project management, strategic planning, operations optimization, and collaborative platforms. Helpful in environments where decision-making and coordination are critical.\n",
    "\n",
    "5. **User Experience:**\n",
    "   - **AutoGen:** Focuses on ease of use with intuitive interfaces for setting up content parameters and minimal manual input once the model is trained. Users may need to review and tweak generated content for precision.\n",
    "   - **CrewAI:** More interaction-driven with features supporting collaboration, feedback loops, and user inputs. Encourages active participation from team members, which could enhance engagement but may also increase the learning curve.\n",
    "\n",
    "Ultimately, while both 'AutoGen' and 'CrewAI' leverage AI for enhancing productivity, 'AutoGen' focuses on automated content creation, making it an excellent choice for producing large-scale textual materials. On the other hand, 'CrewAI' enhances team collaboration and decision-making, best suited for projects requiring integrated efforts and precise planning."
   ]
  },
  {
   "cell_type": "markdown",
   "metadata": {},
   "source": [
    "| Feature/Aspect       | AutoGen                                     | CrewAI                                     |\\n|----------------------|---------------------------------------------|--------------------------------------------|\\n| **Primary Purpose**  | Automated text generation                  | Team collaboration and management AI       |\\n| **Core Functionality** | Generating human-like text based on prompts | Assisting in project management and team collaboration |\\n| **Key Technologies** | Natural Language Processing (NLP), Machine Learning | AI-driven project management tools, NLP for communication |\\n| **Use Cases**        | Content creation, fiction writing, chatbots | Managing tasks, scheduling, resource allocation |\\n| **User Interface**   | Text input and output interface            | Dashboard with team collaboration features |\\n| **Customization**    | Customizable via API and settings for specific outputs | Customizable workflows and task management options |\\n| **Integration Options** | Can integrate with various content platforms | Can integrate with project management software like Trello, Asana |\\n| **Market Target**    | Writers, marketers, software developers    | Project managers, team leads, business organizations |\\n| **Strengths**        | High-quality text generation, reducing content creation time | Enhances productivity, efficient resource management |\\n| **Limitations**      | May require supervision to ensure content relevance | May not fully understand complex team dynamics |\\n| **Pricing**          | Subscription-based pricing or per word/token | Subscription-based pricing with tiered plans based on team size |\\n| **Examples of Output** | Articles, blogs, chatbot conversations    | Task lists, schedules, team performance reports |\\n| **Advanced Features** | Context understanding, style adjustments   | Predictive task management, team performance analytics |\\n| **User Experience**  | Straightforward text creation process       | More involved setup and configuration for optimal performance"
   ]
  },
  {
   "cell_type": "markdown",
   "metadata": {},
   "source": []
  },
  {
   "cell_type": "code",
   "execution_count": null,
   "metadata": {},
   "outputs": [],
   "source": [
    "# Send a completion call to generate an answer\n",
    "print(\"Sending a test completion job\")\n",
    "start_phrase = \"Write a tagline for an ice cream shop. \"\n",
    "response = client.completions.create(\n",
    "    model=deployment_name, prompt=start_phrase, max_tokens=10\n",
    ")\n",
    "print(start_phrase + response.choices[0].text)"
   ]
  },
  {
   "cell_type": "code",
   "execution_count": 14,
   "metadata": {},
   "outputs": [
    {
     "name": "stdout",
     "output_type": "stream",
     "text": [
      "assistant: Orange who?\n"
     ]
    }
   ],
   "source": [
    "response = client.chat.completions.create(\n",
    "    model=deployment_name,\n",
    "    messages=[\n",
    "        {\"role\": \"system\", \"content\": \"You are a helpful assistant.\"},\n",
    "        {\"role\": \"user\", \"content\": \"Knock knock.\"},\n",
    "        {\"role\": \"assistant\", \"content\": \"Who's there?\"},\n",
    "        {\"role\": \"user\", \"content\": \"Orange.\"},\n",
    "    ],\n",
    "    temperature=0,\n",
    ")\n",
    "\n",
    "print(\n",
    "    f\"{response.choices[0].message.role}: {response.choices[0].message.content}\")"
   ]
  },
  {
   "cell_type": "code",
   "execution_count": null,
   "metadata": {},
   "outputs": [],
   "source": [
    "from promptflow.tracing import start_trace"
   ]
  }
 ],
 "metadata": {
  "kernelspec": {
   "display_name": "Python 3",
   "language": "python",
   "name": "python3"
  },
  "language_info": {
   "codemirror_mode": {
    "name": "ipython",
    "version": 3
   },
   "file_extension": ".py",
   "mimetype": "text/x-python",
   "name": "python",
   "nbconvert_exporter": "python",
   "pygments_lexer": "ipython3",
   "version": "3.11.9"
  }
 },
 "nbformat": 4,
 "nbformat_minor": 2
}
